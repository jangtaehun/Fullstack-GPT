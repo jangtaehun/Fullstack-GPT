{
 "cells": [
  {
   "cell_type": "code",
   "execution_count": 9,
   "metadata": {},
   "outputs": [],
   "source": [
    "from langchain.chat_models import ChatOpenAI\n",
    "from langchain.prompts import PromptTemplate\n",
    "\n",
    "def get_weather(lon, lat):\n",
    "    print(\"call an api...\")\n",
    "    \n",
    "function = {\n",
    "    \"name\": \"get_weather\",\n",
    "    \"description\": \"function that takes longitude and latitude to find the weather of a place\",\n",
    "    \"parameters\": {\n",
    "        \"type\": \"object\",\n",
    "        \"properties\": {\n",
    "            \"lon\":{\"type\": \"string\", \"description\": \"The longitude coordinate\"},\n",
    "            \"lat\":{\"type\": \"string\", \"description\": \"The latitude coordinate\"}\n",
    "        }\n",
    "    },\n",
    "    \"required\": [\"lon\", \"lat\"],\n",
    "}\n",
    "\n",
    "llm = ChatOpenAI(temperature=0.1).bind(\n",
    "    function_call={\"name\": \"get_weather\"},\n",
    "    # function_call= \"auto\",\n",
    "    functions = [\n",
    "        function\n",
    "    ]\n",
    ")\n",
    "\n",
    "prompt = PromptTemplate.from_template(\"Who is the weather in {city}\")\n",
    "chain = prompt | llm\n",
    "response = chain.invoke({\"city\": \"suwon\"})\n",
    "\n",
    "response = response.additional_kwargs[\"function_call\"][\"arguments\"]"
   ]
  },
  {
   "cell_type": "code",
   "execution_count": 11,
   "metadata": {},
   "outputs": [
    {
     "name": "stdout",
     "output_type": "stream",
     "text": [
      "127.0077 37.2636\n",
      "call an api...\n"
     ]
    }
   ],
   "source": [
    "import json\n",
    "\n",
    "r = json.loads(response)\n",
    "print(r['lon'], r['lat'])\n",
    "get_weather(r['lon'], r['lat'])"
   ]
  },
  {
   "cell_type": "code",
   "execution_count": 5,
   "metadata": {},
   "outputs": [
    {
     "data": {
      "text/plain": [
       "'{\"questions\":[{\"질문\":\"수원의 지역번호는 몇 번인가요?\",\"선택지s\":[{\"선택지\":\"031\", \"정답\":true},{\"선택지\":\"032\", \"정답\":false},{\"선택지\":\"033\", \"정답\":false},{\"선택지\":\"034\", \"정답\":false}]},{\"질문\":\"수원의 시청은 어디에 위치하고 있나요?\",\"선택지s\":[{\"선택지\":\"팔달구\", \"정답\":false},{\"선택지\":\"장안구\", \"정답\":false},{\"선택지\":\"영통구\", \"정답\":true},{\"선택지\":\"권선구\", \"정답\":false}]},{\"질문\":\"수원의 상징적인 물고기는 무엇인가요?\",\"선택지s\":[{\"선택지\":\"붕어\", \"정답\":false},{\"선택지\":\"잉어\", \"정답\":true},{\"선택지\":\"송어\", \"정답\":false},{\"선택지\":\"우럭\", \"정답\":false}]},{\"질문\":\"수원의 유명한 축제는 무엇인가요?\",\"선택지s\":[{\"선택지\":\"수원화성 축제\", \"정답\":true},{\"선택지\":\"수원누리축제\", \"정답\":false},{\"선택지\":\"수원마실축제\", \"정답\":false},{\"선택지\":\"수원봄축제\", \"정답\":false}]},{\"질문\":\"수원의 대표적인 관광지는 어디인가요?\",\"선택지s\":[{\"선택지\":\"화성행궁\", \"정답\":true},{\"선택지\":\"수원종합운동장\", \"정답\":false},{\"선택지\":\"수원월드컵경기장\", \"정답\":false},{\"선택지\":\"수원아트센터\", \"정답\":false}]}]}'"
      ]
     },
     "execution_count": 5,
     "metadata": {},
     "output_type": "execute_result"
    }
   ],
   "source": [
    "from langchain.chat_models import ChatOpenAI\n",
    "from langchain.prompts import PromptTemplate\n",
    "\n",
    "function = {\n",
    "    \"name\": \"create_quiz\",\n",
    "    \"description\": \"질문과 선택지의 리스트를 가져와 퀴즈를 생성하는 함수\",\n",
    "    \"parameters\": {\n",
    "        \"type\": \"object\",\n",
    "        \"properties\": {\n",
    "            \"questions\": {\n",
    "                \"type\": \"array\",\n",
    "                \"items\": {\n",
    "                    \"type\": \"object\",\n",
    "                    \"properties\": {\n",
    "                        \"질문\": {\n",
    "                            \"type\": \"string\",\n",
    "                        },\n",
    "                        \"선택지s\": {\n",
    "                            \"type\": \"array\",\n",
    "                            \"items\": {\n",
    "                                \"type\": \"object\",\n",
    "                                \"properties\": {\n",
    "                                    \"선택지\": {\n",
    "                                        \"type\": \"string\",\n",
    "                                    },\n",
    "                                    \"정답\": {\n",
    "                                        \"type\": \"boolean\",\n",
    "                                    },\n",
    "                                },\n",
    "                                \"required\": [\"선택지\", \"정답\"],\n",
    "                            },\n",
    "                        },\n",
    "                    },\n",
    "                    \"required\": [\"질문\", \"선택지s\"],\n",
    "                },\n",
    "            }\n",
    "        },\n",
    "    \"required\": [\"lon\", \"lat\"],\n",
    "}}\n",
    "\n",
    "llm = ChatOpenAI(temperature=0.1).bind(\n",
    "    function_call={\"name\": \"create_quiz\"},\n",
    "    # function_call= \"auto\",\n",
    "    functions = [\n",
    "        function\n",
    "    ]\n",
    ")\n",
    "\n",
    "prompt = PromptTemplate.from_template(\"Make a quiz about {city}. each answers have five answer. one correct answer and four false answer\")\n",
    "chain = prompt | llm\n",
    "response = chain.invoke({\"city\": \"suwon\"})\n",
    "\n",
    "response = response.additional_kwargs[\"function_call\"][\"arguments\"]\n",
    "\n",
    "response"
   ]
  },
  {
   "cell_type": "code",
   "execution_count": 4,
   "metadata": {},
   "outputs": [
    {
     "name": "stdout",
     "output_type": "stream",
     "text": [
      "{'questions': [{'질문': 'What is the capital city of Gyeonggi Province in South Korea?', '선택지s': [{'선택지': 'Seoul', '정답': False}, {'선택지': 'Busan', '정답': False}, {'선택지': 'Incheon', '정답': False}, {'선택지': 'Suwon', '정답': True}, {'선택지': 'Daegu', '정답': False}]}, {'질문': 'Which historical site in Suwon is a UNESCO World Heritage Site?', '선택지s': [{'선택지': 'Gyeongbokgung Palace', '정답': False}, {'선택지': 'Bulguksa Temple', '정답': False}, {'선택지': 'Changdeokgung Palace', '정답': False}, {'선택지': 'Hwaseong Fortress', '정답': True}, {'선택지': 'Seokguram Grotto', '정답': False}]}, {'질문': 'What is the traditional Korean martial art that originated in Suwon?', '선택지s': [{'선택지': 'Taekwondo', '정답': True}, {'선택지': 'Hapkido', '정답': False}, {'선택지': 'Kendo', '정답': False}, {'선택지': 'Judo', '정답': False}, {'선택지': 'Karate', '정답': False}]}]}\n",
      "\n",
      "What is the capital city of Gyeonggi Province in South Korea?\n",
      "Which historical site in Suwon is a UNESCO World Heritage Site?\n",
      "What is the traditional Korean martial art that originated in Suwon?\n"
     ]
    }
   ],
   "source": [
    "import json\n",
    "\n",
    "print(json.loads(response))\n",
    "print()\n",
    "\n",
    "for question in json.loads(response)[\"questions\"]:\n",
    "    print(question)\n",
    "    print(question[\"질문\"])\n",
    "    "
   ]
  }
 ],
 "metadata": {
  "kernelspec": {
   "display_name": "env",
   "language": "python",
   "name": "python3"
  },
  "language_info": {
   "codemirror_mode": {
    "name": "ipython",
    "version": 3
   },
   "file_extension": ".py",
   "mimetype": "text/x-python",
   "name": "python",
   "nbconvert_exporter": "python",
   "pygments_lexer": "ipython3",
   "version": "3.11.6"
  }
 },
 "nbformat": 4,
 "nbformat_minor": 2
}
