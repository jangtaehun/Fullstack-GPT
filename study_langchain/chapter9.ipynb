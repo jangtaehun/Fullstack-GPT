{
 "cells": [
  {
   "cell_type": "code",
   "execution_count": 9,
   "metadata": {},
   "outputs": [],
   "source": [
    "from langchain.chat_models import ChatOpenAI\n",
    "from langchain.prompts import PromptTemplate\n",
    "\n",
    "def get_weather(lon, lat):\n",
    "    print(\"call an api...\")\n",
    "    \n",
    "function = {\n",
    "    \"name\": \"get_weather\",\n",
    "    \"description\": \"function that takes longitude and latitude to find the weather of a place\",\n",
    "    \"parameters\": {\n",
    "        \"type\": \"object\",\n",
    "        \"properties\": {\n",
    "            \"lon\":{\"type\": \"string\", \"description\": \"The longitude coordinate\"},\n",
    "            \"lat\":{\"type\": \"string\", \"description\": \"The latitude coordinate\"}\n",
    "        }\n",
    "    },\n",
    "    \"required\": [\"lon\", \"lat\"],\n",
    "}\n",
    "\n",
    "llm = ChatOpenAI(temperature=0.1).bind(\n",
    "    function_call={\"name\": \"get_weather\"},\n",
    "    # function_call= \"auto\",\n",
    "    functions = [\n",
    "        function\n",
    "    ]\n",
    ")\n",
    "\n",
    "prompt = PromptTemplate.from_template(\"Who is the weather in {city}\")\n",
    "chain = prompt | llm\n",
    "response = chain.invoke({\"city\": \"suwon\"})\n",
    "\n",
    "response = response.additional_kwargs[\"function_call\"][\"arguments\"]"
   ]
  },
  {
   "cell_type": "code",
   "execution_count": 11,
   "metadata": {},
   "outputs": [
    {
     "name": "stdout",
     "output_type": "stream",
     "text": [
      "127.0077 37.2636\n",
      "call an api...\n"
     ]
    }
   ],
   "source": [
    "import json\n",
    "\n",
    "r = json.loads(response)\n",
    "print(r['lon'], r['lat'])\n",
    "get_weather(r['lon'], r['lat'])"
   ]
  },
  {
   "cell_type": "code",
   "execution_count": 14,
   "metadata": {},
   "outputs": [
    {
     "data": {
      "text/plain": [
       "'{\"questions\":[{\"질문\":\"What is the population of Suwon?\",\"선택지s\":[{\"선택지\":\"1 million\",\"정답\":false},{\"선택지\":\"2 million\",\"정답\":true},{\"선택지\":\"500,000\",\"정답\":false}]},{\"질문\":\"Which famous historical site is located in Suwon?\",\"선택지s\":[{\"선택지\":\"Gyeongbokgung Palace\",\"정답\":false},{\"선택지\":\"Hwaseong Fortress\",\"정답\":true},{\"선택지\":\"Changdeokgung Palace\",\"정답\":false}]},{\"질문\":\"What is the local cuisine of Suwon known for?\",\"선택지s\":[{\"선택지\":\"Bibimbap\",\"정답\":false},{\"선택지\":\"Galbi\",\"정답\":true},{\"선택지\":\"Kimchi\",\"정답\":false}]}]}'"
      ]
     },
     "execution_count": 14,
     "metadata": {},
     "output_type": "execute_result"
    }
   ],
   "source": [
    "from langchain.chat_models import ChatOpenAI\n",
    "from langchain.prompts import PromptTemplate\n",
    "\n",
    "function = {\n",
    "    \"name\": \"create_quiz\",\n",
    "    \"description\": \"질문과 선택지의 리스트를 가져와 퀴즈를 생성하는 함수\",\n",
    "    \"parameters\": {\n",
    "        \"type\": \"object\",\n",
    "        \"properties\": {\n",
    "            \"questions\": {\n",
    "                \"type\": \"array\",\n",
    "                \"items\": {\n",
    "                    \"type\": \"object\",\n",
    "                    \"properties\": {\n",
    "                        \"질문\": {\n",
    "                            \"type\": \"string\",\n",
    "                        },\n",
    "                        \"선택지s\": {\n",
    "                            \"type\": \"array\",\n",
    "                            \"items\": {\n",
    "                                \"type\": \"object\",\n",
    "                                \"properties\": {\n",
    "                                    \"선택지\": {\n",
    "                                        \"type\": \"string\",\n",
    "                                    },\n",
    "                                    \"정답\": {\n",
    "                                        \"type\": \"boolean\",\n",
    "                                    },\n",
    "                                },\n",
    "                                \"required\": [\"선택지\", \"정답\"],\n",
    "                            },\n",
    "                        },\n",
    "                    },\n",
    "                    \"required\": [\"질문\", \"선택지s\"],\n",
    "                },\n",
    "            }\n",
    "        },\n",
    "    \"required\": [\"lon\", \"lat\"],\n",
    "}}\n",
    "\n",
    "llm = ChatOpenAI(temperature=0.1).bind(\n",
    "    function_call={\"name\": \"create_quiz\"},\n",
    "    # function_call= \"auto\",\n",
    "    functions = [\n",
    "        function\n",
    "    ]\n",
    ")\n",
    "\n",
    "prompt = PromptTemplate.from_template(\"Make a quiz about {city}\")\n",
    "chain = prompt | llm\n",
    "response = chain.invoke({\"city\": \"suwon\"})\n",
    "\n",
    "response = response.additional_kwargs[\"function_call\"][\"arguments\"]\n",
    "\n",
    "response"
   ]
  },
  {
   "cell_type": "code",
   "execution_count": 16,
   "metadata": {},
   "outputs": [
    {
     "name": "stdout",
     "output_type": "stream",
     "text": [
      "{'questions': [{'질문': 'What is the population of Suwon?', '선택지s': [{'선택지': '1 million', '정답': False}, {'선택지': '2 million', '정답': True}, {'선택지': '500,000', '정답': False}]}, {'질문': 'Which famous historical site is located in Suwon?', '선택지s': [{'선택지': 'Gyeongbokgung Palace', '정답': False}, {'선택지': 'Hwaseong Fortress', '정답': True}, {'선택지': 'Changdeokgung Palace', '정답': False}]}, {'질문': 'What is the local cuisine of Suwon known for?', '선택지s': [{'선택지': 'Bibimbap', '정답': False}, {'선택지': 'Galbi', '정답': True}, {'선택지': 'Kimchi', '정답': False}]}]}\n",
      "\n",
      "{'질문': 'What is the population of Suwon?', '선택지s': [{'선택지': '1 million', '정답': False}, {'선택지': '2 million', '정답': True}, {'선택지': '500,000', '정답': False}]}\n",
      "{'질문': 'Which famous historical site is located in Suwon?', '선택지s': [{'선택지': 'Gyeongbokgung Palace', '정답': False}, {'선택지': 'Hwaseong Fortress', '정답': True}, {'선택지': 'Changdeokgung Palace', '정답': False}]}\n",
      "{'질문': 'What is the local cuisine of Suwon known for?', '선택지s': [{'선택지': 'Bibimbap', '정답': False}, {'선택지': 'Galbi', '정답': True}, {'선택지': 'Kimchi', '정답': False}]}\n"
     ]
    }
   ],
   "source": [
    "import json\n",
    "\n",
    "print(json.loads(response))\n",
    "print()\n",
    "\n",
    "for question in json.loads(response)[\"questions\"]:\n",
    "    print(question)"
   ]
  }
 ],
 "metadata": {
  "kernelspec": {
   "display_name": "env",
   "language": "python",
   "name": "python3"
  },
  "language_info": {
   "codemirror_mode": {
    "name": "ipython",
    "version": 3
   },
   "file_extension": ".py",
   "mimetype": "text/x-python",
   "name": "python",
   "nbconvert_exporter": "python",
   "pygments_lexer": "ipython3",
   "version": "3.11.6"
  }
 },
 "nbformat": 4,
 "nbformat_minor": 2
}
