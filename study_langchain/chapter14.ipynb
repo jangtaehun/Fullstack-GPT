{
 "cells": [
  {
   "cell_type": "code",
   "execution_count": 8,
   "metadata": {},
   "outputs": [],
   "source": [
    "from langchain.utilities.duckduckgo_search import DuckDuckGoSearchAPIWrapper\n",
    "import yfinance\n",
    "import json\n",
    "\n",
    "def get_ticker(inputs):\n",
    "    ddg = DuckDuckGoSearchAPIWrapper()\n",
    "    company_name = inputs[\"company_name\"]\n",
    "    return ddg.run(f\"Ticker symbol of {company_name}\")\n",
    "\n",
    "def get_income_statement(inputs):\n",
    "    ticker = inputs['ticker']\n",
    "    stock = yfinance.Ticker(ticker)\n",
    "    return json.dumps(stock.income_stmt.to_json())\n",
    "    # dumps: object를 받아서 json 포맷의 string으로 바꿔준다.\n",
    "\n",
    "def get_balance_sheet(inputs):\n",
    "    ticker = inputs['ticker']\n",
    "    stock = yfinance.Ticker(ticker)\n",
    "    return json.dumps(stock.balance_sheet.to_json())\n",
    "\n",
    "def get_daily_stock_performance(inputs):\n",
    "    ticker = inputs['ticker']\n",
    "    stock = yfinance.Ticker(ticker)\n",
    "    return json.dumps(stock.history(\"3mo\").to_json())\n",
    "    # history: 주식의 가격 history를 넘겨준다.\n",
    "\n",
    "functions = [\n",
    "    {\n",
    "        \"type\": \"function\",\n",
    "        \"function\": {\n",
    "            \"name\": \"get_ticker\",\n",
    "            \"description\": \"Given the name of a company returns its ticker symbol\",\n",
    "            \"parameters\": {\n",
    "                \"type\": \"object\",\n",
    "                \"properties\": {\n",
    "                    \"company_name\": {\n",
    "                        \"type\": \"string\",\n",
    "                        \"description\": \"The name of the company\",\n",
    "                    }\n",
    "                },\n",
    "                \"required\": [\"company_name\"],\n",
    "            },\n",
    "        },\n",
    "    },\n",
    "    {\n",
    "        \"type\": \"function\",\n",
    "        \"function\": {\n",
    "            \"name\": \"get_income_statement\",\n",
    "            \"description\": \"Given a ticker symbol (i.e AAPL) returns the company's income statement.\",\n",
    "            \"parameters\": {\n",
    "                \"type\": \"object\",\n",
    "                \"properties\": {\n",
    "                    \"ticker\": {\n",
    "                        \"type\": \"string\",\n",
    "                        \"description\": \"Ticker symbol of the company\",\n",
    "                    },\n",
    "                },\n",
    "                \"required\": [\"ticker\"],\n",
    "            },\n",
    "        },\n",
    "    },\n",
    "    {\n",
    "        \"type\": \"function\",\n",
    "        \"function\": {\n",
    "            \"name\": \"get_balance_sheet\",\n",
    "            \"description\": \"Given a ticker symbol (i.e AAPL) returns the company's balance sheet.\",\n",
    "            \"parameters\": {\n",
    "                \"type\": \"object\",\n",
    "                \"properties\": {\n",
    "                    \"ticker\": {\n",
    "                        \"type\": \"string\",\n",
    "                        \"description\": \"Ticker symbol of the company\",\n",
    "                    },\n",
    "                },\n",
    "                \"required\": [\"ticker\"],\n",
    "            },\n",
    "        },\n",
    "    },\n",
    "    {\n",
    "        \"type\": \"function\",\n",
    "        \"function\": {\n",
    "            \"name\": \"get_daily_stock_performance\",\n",
    "            \"description\": \"Given a ticker symbol (i.e AAPL) returns the performance of the stock for the last 100 days.\",\n",
    "            \"parameters\": {\n",
    "                \"type\": \"object\",\n",
    "                \"properties\": {\n",
    "                    \"ticker\": {\n",
    "                        \"type\": \"string\",\n",
    "                        \"description\": \"Ticker symbol of the company\",\n",
    "                    },\n",
    "                },\n",
    "                \"required\": [\"ticker\"],\n",
    "            },\n",
    "        },\n",
    "    },\n",
    "]"
   ]
  },
  {
   "cell_type": "code",
   "execution_count": 9,
   "metadata": {},
   "outputs": [
    {
     "data": {
      "text/plain": [
       "Assistant(id='asst_HUIxOUwSKYTLrXuad6GFvXzX', created_at=1712845606, description=None, file_ids=[], instructions='You help users do research on publicly traded companies and you help users decide if they should buy the stock or not.', metadata={}, model='gpt-3.5-turbo-1106', name='Investor Assistant', object='assistant', tools=[FunctionTool(function=FunctionDefinition(name='get_ticker', description='Given the name of a company returns its ticker symbol', parameters={'type': 'object', 'properties': {'company_name': {'type': 'string', 'description': 'The name of company'}}, 'required': ['company_name']}), type='function')])"
      ]
     },
     "execution_count": 9,
     "metadata": {},
     "output_type": "execute_result"
    }
   ],
   "source": [
    "import openai as client\n",
    "\n",
    "assistance = client.beta.assistants.create(\n",
    "    name=\"Investor Assistant\",\n",
    "    instructions=\"You help users do research on publicly traded companies and you help users decide if they should buy the stock or not.\",\n",
    "    model = \"gpt-3.5-turbo-1106\",\n",
    "    tools=function,\n",
    ")\n",
    "assistance"
   ]
  },
  {
   "cell_type": "code",
   "execution_count": 10,
   "metadata": {},
   "outputs": [
    {
     "data": {
      "text/plain": [
       "\"Stock analysis for Cloudflare Inc (NET:New York) including stock price, stock chart, company news, key statistics, fundamentals and company profile. Real-time Cloudflare stock price (NYSE: NET) plus other valuable data points like day range, year, stock analyst insights, related news and more. Get a real-time Cloudflare, Inc. (NET) stock price quote with breaking news, financials, statistics, charts and more. Get a real-time Cloudflare, Inc. (NET) stock price quote with breaking news, financials, statistics, charts and more. ... Ticker Symbol NET. Full Company Profile. Financial Performance. In 2023, Cloudflare's revenue was $1.30 ... At Cloudflare, Inc., we promise to treat your data with respect and will not share your information with any third party. You can unsubscribe to any of the investor alerts you are subscribed to by visiting the 'unsubscribe' section below. If you experience any issues with this process, please contact us for further assistance. 23 brokers have issued 12 month price objectives for Cloudflare's shares. Their NET share price targets range from $43.00 to $135.00. On average, they anticipate the company's stock price to reach $87.50 in the next year. This suggests that the stock has a possible downside of 9.8%.\""
      ]
     },
     "execution_count": 10,
     "metadata": {},
     "output_type": "execute_result"
    }
   ],
   "source": [
    "get_ticker({\"company_name\":\"Cloudflare\"})"
   ]
  }
 ],
 "metadata": {
  "kernelspec": {
   "display_name": "env",
   "language": "python",
   "name": "python3"
  },
  "language_info": {
   "codemirror_mode": {
    "name": "ipython",
    "version": 3
   },
   "file_extension": ".py",
   "mimetype": "text/x-python",
   "name": "python",
   "nbconvert_exporter": "python",
   "pygments_lexer": "ipython3",
   "version": "3.11.6"
  }
 },
 "nbformat": 4,
 "nbformat_minor": 2
}
